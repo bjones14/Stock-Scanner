{
 "cells": [
  {
   "cell_type": "markdown",
   "id": "272a3902",
   "metadata": {},
   "source": [
    "# Stock Scanner Notebook\n",
    "\n",
    "This notebook shows examples on how to acquire and analyze stock data using nasdaqdatalink and yfinance"
   ]
  },
  {
   "cell_type": "code",
   "execution_count": 52,
   "id": "d347d0a0",
   "metadata": {},
   "outputs": [],
   "source": [
    "import nasdaqdatalink as nd\n",
    "import yfinance as yf \n",
    "import pandas as pd\n",
    "import pandas_ta as ta"
   ]
  },
  {
   "cell_type": "code",
   "execution_count": 61,
   "id": "e0a22765",
   "metadata": {},
   "outputs": [],
   "source": [
    "df = pd.DataFrame() # Empty DataFrame"
   ]
  },
  {
   "cell_type": "code",
   "execution_count": 65,
   "id": "47bc3071-3bd7-4b07-bf34-c3581725e9f6",
   "metadata": {},
   "outputs": [
    {
     "ename": "AttributeError",
     "evalue": "'NoneType' object has no attribute 'ta'",
     "output_type": "error",
     "traceback": [
      "\u001b[0;31m---------------------------------------------------------------------------\u001b[0m",
      "\u001b[0;31mAttributeError\u001b[0m                            Traceback (most recent call last)",
      "Cell \u001b[0;32mIn[65], line 1\u001b[0m\n\u001b[0;32m----> 1\u001b[0m df \u001b[38;5;241m=\u001b[39m df\u001b[38;5;241m.\u001b[39mta\u001b[38;5;241m.\u001b[39mticker(\u001b[38;5;124m\"\u001b[39m\u001b[38;5;124maapl\u001b[39m\u001b[38;5;124m\"\u001b[39m)\n",
      "\u001b[0;31mAttributeError\u001b[0m: 'NoneType' object has no attribute 'ta'"
     ]
    }
   ],
   "source": [
    "df = df.ta.ticker(\"aapl\")"
   ]
  },
  {
   "cell_type": "code",
   "execution_count": null,
   "id": "a8ad6760-f0cc-4fda-a52a-08b4872aa85e",
   "metadata": {},
   "outputs": [],
   "source": []
  },
  {
   "cell_type": "code",
   "execution_count": null,
   "id": "905f9160-a4ba-4cfd-8df3-3c27cf07e09e",
   "metadata": {},
   "outputs": [],
   "source": []
  },
  {
   "cell_type": "code",
   "execution_count": null,
   "id": "6335187b-851e-4e0d-a676-9e995a57a81e",
   "metadata": {},
   "outputs": [],
   "source": []
  },
  {
   "cell_type": "code",
   "execution_count": null,
   "id": "1d94c208-baf0-4c8f-98b1-a74a23450122",
   "metadata": {},
   "outputs": [],
   "source": []
  },
  {
   "cell_type": "code",
   "execution_count": null,
   "id": "06c9f516-fc3e-4f18-92d1-c5c080a7000b",
   "metadata": {},
   "outputs": [],
   "source": []
  },
  {
   "cell_type": "code",
   "execution_count": 27,
   "id": "511381aa-17cd-42d6-b44a-0c85396b061d",
   "metadata": {},
   "outputs": [
    {
     "name": "stdout",
     "output_type": "stream",
     "text": [
      "              Open    High     Low    Last   Close  Total Trade Quantity  \\\n",
      "Date                                                                       \n",
      "2019-01-02  175.80  176.20  171.00  172.35  172.40              722532.0   \n",
      "2019-01-03  172.80  175.70  171.50  172.00  172.00              698190.0   \n",
      "2019-01-04  172.05  174.95  172.05  174.55  174.55              431122.0   \n",
      "\n",
      "            Turnover (Lacs)  \n",
      "Date                         \n",
      "2019-01-02          1251.85  \n",
      "2019-01-03          1212.34  \n",
      "2019-01-04           749.99  \n"
     ]
    }
   ],
   "source": [
    "# print the latest 3 items\n",
    "print(df.tail(3))"
   ]
  },
  {
   "cell_type": "code",
   "execution_count": 28,
   "id": "456a555e-a2a6-4b9a-ac0f-9a8a7a567215",
   "metadata": {},
   "outputs": [
    {
     "name": "stdout",
     "output_type": "stream",
     "text": [
      "              Open    High     Low    Last    Close  Total Trade Quantity  \\\n",
      "Date                                                                        \n",
      "2009-09-30  1096.0  1156.7  1090.0  1135.0  1141.20            19748012.0   \n",
      "2009-10-01  1102.0  1173.7  1102.0  1167.0  1166.35             3074254.0   \n",
      "\n",
      "            Turnover (Lacs)  \n",
      "Date                         \n",
      "2009-09-30        223877.07  \n",
      "2009-10-01         35463.78  \n"
     ]
    }
   ],
   "source": [
    "# print the oldest 2 items\n",
    "print(df.head(2))"
   ]
  },
  {
   "cell_type": "markdown",
   "id": "4b9ebd2c-5ff4-44e4-9737-7fb419826f66",
   "metadata": {},
   "source": [
    "## Now lets import the pandas_ta library which provides technical analysis functions for our new DataFrame"
   ]
  },
  {
   "cell_type": "code",
   "execution_count": 29,
   "id": "8953b7ae-211a-4d9b-8a42-c76876550114",
   "metadata": {},
   "outputs": [],
   "source": []
  },
  {
   "cell_type": "code",
   "execution_count": 46,
   "id": "5b186cc0-fc70-495d-a0be-c43b21bbd425",
   "metadata": {
    "scrolled": true
   },
   "outputs": [],
   "source": [
    "# VWAP requires the DataFrame index to be a DatetimeIndex.\n",
    "# Replace \"datetime\" with the appropriate column from your DataFrame\n",
    "# df.set_index(pd.DatetimeIndex(df[\"Date\"]), inplace=True)"
   ]
  },
  {
   "cell_type": "code",
   "execution_count": null,
   "id": "509aa2bd-68c4-4d1e-8489-cd7b27208eff",
   "metadata": {},
   "outputs": [],
   "source": []
  }
 ],
 "metadata": {
  "kernelspec": {
   "display_name": "Python 3 (ipykernel)",
   "language": "python",
   "name": "python3"
  },
  "language_info": {
   "codemirror_mode": {
    "name": "ipython",
    "version": 3
   },
   "file_extension": ".py",
   "mimetype": "text/x-python",
   "name": "python",
   "nbconvert_exporter": "python",
   "pygments_lexer": "ipython3",
   "version": "3.11.5"
  }
 },
 "nbformat": 4,
 "nbformat_minor": 5
}
